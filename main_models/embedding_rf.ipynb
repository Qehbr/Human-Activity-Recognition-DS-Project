{
 "cells": [
  {
   "cell_type": "code",
   "execution_count": 1,
   "id": "initial_id",
   "metadata": {
    "collapsed": true,
    "ExecuteTime": {
     "end_time": "2024-02-17T10:03:21.050194200Z",
     "start_time": "2024-02-17T10:03:16.909322700Z"
    }
   },
   "outputs": [],
   "source": [
    "from CNN.cnn_utils import get_train_data\n",
    "from LSTM.lstm_autoencoder import LSTM_AE\n",
    "from LSTM.lstm_autoencoders_utils import train_lstm_autoencoder\n",
    "from RF_XGB.RandomForest import train_random_forest\n",
    "from models_utils.Datasets import *\n",
    "from models_utils.GLOBALS import *\n",
    "from models_utils.utils import get_results"
   ]
  },
  {
   "cell_type": "code",
   "outputs": [],
   "source": [
    "# get train data\n",
    "train_data = pd.read_csv('train.csv')\n",
    "data_type_1 = train_data[train_data['sensor'] == 'vicon']['id'].tolist()\n",
    "data_type_2 = train_data[train_data['sensor'] == 'smartwatch']['id'].tolist()"
   ],
   "metadata": {
    "collapsed": false,
    "ExecuteTime": {
     "end_time": "2024-02-17T10:03:21.086629100Z",
     "start_time": "2024-02-17T10:03:21.051694100Z"
    }
   },
   "id": "d8f0cf28027bd353",
   "execution_count": 2
  },
  {
   "cell_type": "code",
   "outputs": [],
   "source": [
    "# sizes of padding/cutting\n",
    "embedding_size = 128\n",
    "target_size_type1 = 4000\n",
    "target_size_type2 = 1350"
   ],
   "metadata": {
    "collapsed": false,
    "ExecuteTime": {
     "end_time": "2024-02-17T10:03:21.821858500Z",
     "start_time": "2024-02-17T10:03:21.816852400Z"
    }
   },
   "id": "58e12e2a65852328",
   "execution_count": 3
  },
  {
   "cell_type": "code",
   "outputs": [],
   "source": [
    "# train or load models\n",
    "train_or_load_autoencoders = 'load'\n",
    "if train_or_load_autoencoders == 'train':\n",
    "    Type1LSTMAutoencoder = train_lstm_autoencoder(data_type_1, '1', target_size_type1, embedding_size, 0.000004, 64, 15)\n",
    "    Type2LSTMAutoencoder = train_lstm_autoencoder(data_type_2, '2', target_size_type2, embedding_size, 0.000004, 64, 15)\n",
    "elif train_or_load_autoencoders == 'load':\n",
    "    Type1LSTMAutoencoder = LSTM_AE(target_size_type1, 3, embedding_size).to(device)\n",
    "    Type1LSTMAutoencoder.load_state_dict(torch.load('Type1LSTMAutoencoder.pth'))\n",
    "    Type2LSTMAutoencoder = LSTM_AE(target_size_type2, 3, embedding_size).to(device)\n",
    "    Type2LSTMAutoencoder.load_state_dict(torch.load('Type2LSTMAutoencoder.pth'))\n",
    "else:\n",
    "    raise ValueError('Wrong train or load')"
   ],
   "metadata": {
    "collapsed": false,
    "ExecuteTime": {
     "end_time": "2024-02-17T10:03:26.421071Z",
     "start_time": "2024-02-17T10:03:25.362619500Z"
    }
   },
   "id": "d3e7ae04c7c18ace",
   "execution_count": 4
  },
  {
   "cell_type": "code",
   "outputs": [],
   "source": [
    "# calculate or load train data\n",
    "embedding_names = [f'embedding_feature_{i + 1}' for i in range(18)]\n",
    "calculate_or_load_train_data = 'calculate'\n",
    "if calculate_or_load_train_data == 'calculate':\n",
    "    data_type_1, data_type_2 = get_train_data('EmbeddingRF', Type1LSTMAutoencoder, Type2LSTMAutoencoder,\n",
    "                                              target_size_type1, target_size_type2, is_autoencoder=True)\n",
    "elif calculate_or_load_train_data == 'load':\n",
    "    data_type_1 = pd.read_csv('EmbeddingRF_type1.csv')\n",
    "    data_type_2 = pd.read_csv('EmbeddingRF_type2.csv')"
   ],
   "metadata": {
    "collapsed": false,
    "ExecuteTime": {
     "end_time": "2024-02-17T10:22:48.591739100Z",
     "start_time": "2024-02-17T10:03:30.148587500Z"
    }
   },
   "id": "42b9423c5bece4e",
   "execution_count": 5
  },
  {
   "cell_type": "code",
   "outputs": [],
   "source": [
    "# train rf\n",
    "cols_to_drop_type_1 = ['activity', 'dominant_freq_y', 'count_x', 'count_y', 'count_z', 'dominant_freq_x']\n",
    "rf_classifier_type1, label_encoder_type1 = train_random_forest(data_type_1, cols_to_drop_type_1, n_estimators=200)\n",
    "cols_to_drop_type_2 = ['activity', 'dominant_freq_y', 'count_x', 'count_y', 'count_z', 'dominant_freq_x']\n",
    "rf_classifier_type2, label_encoder_type2 = train_random_forest(data_type_2, cols_to_drop_type_2, n_estimators=200)"
   ],
   "metadata": {
    "collapsed": false
   },
   "id": "6038db51e8d5050a"
  },
  {
   "cell_type": "code",
   "outputs": [],
   "source": [
    "# get and save results for test data\n",
    "results = get_results(Type1LSTMAutoencoder, Type2LSTMAutoencoder, rf_classifier_type1, rf_classifier_type2,\n",
    "                      label_encoder_type1, label_encoder_type2, target_size_type1, target_size_type2,\n",
    "                      cols_to_drop_type_1, cols_to_drop_type_2, embedding_names)\n",
    "results.to_csv('results_Embedding_RF.csv', index=False)"
   ],
   "metadata": {
    "collapsed": false
   },
   "id": "abfdb68d20d107a5"
  }
 ],
 "metadata": {
  "kernelspec": {
   "display_name": "Python 3",
   "language": "python",
   "name": "python3"
  },
  "language_info": {
   "codemirror_mode": {
    "name": "ipython",
    "version": 2
   },
   "file_extension": ".py",
   "mimetype": "text/x-python",
   "name": "python",
   "nbconvert_exporter": "python",
   "pygments_lexer": "ipython2",
   "version": "2.7.6"
  }
 },
 "nbformat": 4,
 "nbformat_minor": 5
}
