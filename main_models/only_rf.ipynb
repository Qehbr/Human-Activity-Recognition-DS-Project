{
 "cells": [
  {
   "cell_type": "code",
   "outputs": [],
   "source": [
    "import pandas as pd\n",
    "import torch\n",
    "import os\n",
    "from models_utils.GLOBALS import files_directory\n",
    "from RF_XGB.RandomForest import get_rf_data, train_random_forest\n",
    "from models_utils.utils import convert_to_features"
   ],
   "metadata": {
    "collapsed": false,
    "ExecuteTime": {
     "end_time": "2024-02-21T17:14:21.651921Z",
     "start_time": "2024-02-21T17:14:18.117768200Z"
    }
   },
   "id": "7c2f16f50ca726a7",
   "execution_count": 1
  },
  {
   "cell_type": "code",
   "outputs": [],
   "source": [
    "# get train data\n",
    "data_type_1, data_type_2 = get_rf_data()"
   ],
   "metadata": {
    "collapsed": false,
    "ExecuteTime": {
     "end_time": "2024-02-21T17:17:23.406089Z",
     "start_time": "2024-02-21T17:14:21.643127600Z"
    }
   },
   "id": "90ed366701d83735",
   "execution_count": 2
  },
  {
   "cell_type": "code",
   "outputs": [
    {
     "name": "stdout",
     "output_type": "stream",
     "text": [
      "Accuracy: 0.9660127106935618\n",
      "Log Loss: 0.261437658904284\n",
      "Accuracy: 0.9569854248133665\n",
      "Log Loss: 0.3947428930042928\n"
     ]
    }
   ],
   "source": [
    "# train rf\n",
    "rf_classifier_type1, label_encoder_type1 = train_random_forest(data_type_1, ['activity'], 200)\n",
    "rf_classifier_type2, label_encoder_type2 = train_random_forest(data_type_2, ['activity'], 200)"
   ],
   "metadata": {
    "collapsed": false,
    "ExecuteTime": {
     "end_time": "2024-02-21T17:17:56.313112500Z",
     "start_time": "2024-02-21T17:17:23.407088900Z"
    }
   },
   "id": "2da3c0e71408deaa",
   "execution_count": 3
  },
  {
   "cell_type": "code",
   "outputs": [],
   "source": [
    "# get and save results for test data\n",
    "labels = ['brushing_teeth', 'idle', 'preparing_sandwich', 'reading_book', 'stairs_down', 'stairs_up', 'typing',\n",
    "          'using_phone', 'using_remote_control', 'walking_freely', 'walking_holding_a_tray',\n",
    "          'walking_with_handbag', 'walking_with_hands_in_pockets', 'walking_with_object_underarm',\n",
    "          'washing_face_and_hands', 'washing_mug', 'washing_plate', 'writing']\n",
    "results_list = []\n",
    "\n",
    "for i, file_id in enumerate(pd.read_csv('sample_submission.csv')['sample_id'].to_list()):\n",
    "\n",
    "    class_path = os.path.join(files_directory, f\"{file_id}.csv\")\n",
    "    new_data = pd.read_csv(class_path)\n",
    "    if new_data.shape[1] == 4:\n",
    "        new_data = new_data[new_data.iloc[:, 0] == 'acceleration [m/s/s]'].iloc[:, 1:]\n",
    "        data_x_tensor = torch.tensor(new_data[\"x\"].values, dtype=torch.float32)\n",
    "        data_y_tensor = torch.tensor(new_data[\"y\"].values, dtype=torch.float32)\n",
    "        data_z_tensor = torch.tensor(new_data[\"z\"].values, dtype=torch.float32)\n",
    "        res = rf_classifier_type1.predict_proba(convert_to_features(data_x_tensor, data_y_tensor, data_z_tensor))\n",
    "        res_dict = dict(zip(label_encoder_type1.inverse_transform(rf_classifier_type1.classes_), res[0]))\n",
    "    else:\n",
    "        data_x_tensor = torch.tensor(new_data[\"x [m]\"].values, dtype=torch.float32)\n",
    "        data_y_tensor = torch.tensor(new_data[\"y [m]\"].values, dtype=torch.float32)\n",
    "        data_z_tensor = torch.tensor(new_data[\"z [m]\"].values, dtype=torch.float32)\n",
    "        res = rf_classifier_type2.predict_proba(convert_to_features(data_x_tensor, data_y_tensor, data_z_tensor))\n",
    "        res_dict = dict(zip(label_encoder_type2.inverse_transform(rf_classifier_type2.classes_), res[0]))\n",
    "\n",
    "    result_dict = {label: res_dict.get(label, 0) for label in labels}\n",
    "    result_dict['sample_id'] = file_id\n",
    "    results_list.append(result_dict)\n",
    "\n",
    "results = pd.DataFrame(results_list, columns=['sample_id'] + labels)\n",
    "results.to_csv('results_rf5.csv', index=False)"
   ],
   "metadata": {
    "collapsed": false,
    "is_executing": true,
    "ExecuteTime": {
     "start_time": "2024-02-15T21:03:00.392588300Z"
    }
   },
   "id": "62ec6b7e36883d50",
   "execution_count": null
  }
 ],
 "metadata": {
  "kernelspec": {
   "display_name": "Python 3",
   "language": "python",
   "name": "python3"
  },
  "language_info": {
   "codemirror_mode": {
    "name": "ipython",
    "version": 2
   },
   "file_extension": ".py",
   "mimetype": "text/x-python",
   "name": "python",
   "nbconvert_exporter": "python",
   "pygments_lexer": "ipython2",
   "version": "2.7.6"
  }
 },
 "nbformat": 4,
 "nbformat_minor": 5
}
