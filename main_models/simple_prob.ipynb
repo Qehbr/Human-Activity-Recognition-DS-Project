{
 "cells": [
  {
   "cell_type": "code",
   "execution_count": 30,
   "id": "initial_id",
   "metadata": {
    "collapsed": true,
    "ExecuteTime": {
     "end_time": "2024-02-15T17:32:29.333675200Z",
     "start_time": "2024-02-15T17:32:29.326132800Z"
    }
   },
   "outputs": [],
   "source": [
    "import pandas as pd"
   ]
  },
  {
   "cell_type": "code",
   "outputs": [],
   "source": [
    "# get data and probabilities\n",
    "data = pd.read_csv('train.csv')\n",
    "activities_probabilities = (data['activity'].value_counts() / len(data)).to_dict()"
   ],
   "metadata": {
    "collapsed": false,
    "ExecuteTime": {
     "end_time": "2024-02-15T17:32:29.788214500Z",
     "start_time": "2024-02-15T17:32:29.747890300Z"
    }
   },
   "id": "c3ad2c3e5137f564",
   "execution_count": 31
  },
  {
   "cell_type": "code",
   "outputs": [],
   "source": [
    "# get and save results for test data\n",
    "labels = ['brushing_teeth', 'idle', 'preparing_sandwich', 'reading_book', 'stairs_down', 'stairs_up', 'typing',\n",
    "          'using_phone', 'using_remote_control', 'walking_freely', 'walking_holding_a_tray',\n",
    "          'walking_with_handbag', 'walking_with_hands_in_pockets', 'walking_with_object_underarm',\n",
    "          'washing_face_and_hands', 'washing_mug', 'washing_plate', 'writing']\n",
    "results = pd.DataFrame(columns=['sample_id'] + labels)\n",
    "for file_id in pd.read_csv('sample_submission.csv')['sample_id'].to_list():\n",
    "\n",
    "    result_dict = {'sample_id': [file_id]}\n",
    "    for label in labels:\n",
    "        result_dict[label] = [activities_probabilities[label]]\n",
    "    new_row = pd.DataFrame(result_dict)\n",
    "    results = pd.concat([results, new_row], ignore_index=True)\n",
    "results.to_csv('results_simple_prob.csv', index=False)"
   ],
   "metadata": {
    "collapsed": false
   },
   "id": "3dda439f797613ff",
   "execution_count": null
  }
 ],
 "metadata": {
  "kernelspec": {
   "display_name": "Python 3",
   "language": "python",
   "name": "python3"
  },
  "language_info": {
   "codemirror_mode": {
    "name": "ipython",
    "version": 2
   },
   "file_extension": ".py",
   "mimetype": "text/x-python",
   "name": "python",
   "nbconvert_exporter": "python",
   "pygments_lexer": "ipython2",
   "version": "2.7.6"
  }
 },
 "nbformat": 4,
 "nbformat_minor": 5
}
