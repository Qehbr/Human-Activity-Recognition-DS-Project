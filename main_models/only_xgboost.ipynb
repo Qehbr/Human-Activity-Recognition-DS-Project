{
 "cells": [
  {
   "cell_type": "code",
   "execution_count": 1,
   "id": "initial_id",
   "metadata": {
    "collapsed": true,
    "ExecuteTime": {
     "end_time": "2024-02-21T17:13:36.370505300Z",
     "start_time": "2024-02-21T17:13:33.453207400Z"
    }
   },
   "outputs": [],
   "source": [
    "import pandas as pd\n",
    "import os\n",
    "import torch\n",
    "from models_utils.GLOBALS import files_directory\n",
    "from RF_XGB.RandomForest import get_rf_data\n",
    "from RF_XGB.XGBoost import train_xgb\n",
    "from models_utils.utils import convert_to_features"
   ]
  },
  {
   "cell_type": "code",
   "outputs": [],
   "source": [
    "# get train data\n",
    "data_type_1, data_type_2 = get_rf_data()"
   ],
   "metadata": {
    "collapsed": false,
    "ExecuteTime": {
     "end_time": "2024-02-21T17:16:37.567386900Z",
     "start_time": "2024-02-21T17:13:36.371404400Z"
    }
   },
   "id": "7ec479cbc31bcd9f",
   "execution_count": 2
  },
  {
   "cell_type": "code",
   "outputs": [
    {
     "name": "stdout",
     "output_type": "stream",
     "text": [
      "Accuracy: 0.829234595192042\n",
      "Log Loss: 0.6229548565438214\n",
      "Accuracy: 0.7621756132243157\n",
      "Log Loss: 0.7809197322508317\n"
     ]
    }
   ],
   "source": [
    "# train xgb\n",
    "xgb_classifier_type1, label_encoder_type1 = train_xgb(data_type_1, ['activity'], 200)\n",
    "xgb_classifier_type2, label_encoder_type2 = train_xgb(data_type_2, ['activity'], 200)"
   ],
   "metadata": {
    "collapsed": false,
    "ExecuteTime": {
     "end_time": "2024-02-21T17:20:14.595688700Z",
     "start_time": "2024-02-21T17:20:03.777208100Z"
    }
   },
   "id": "69f31400bc1e3098",
   "execution_count": 4
  },
  {
   "cell_type": "code",
   "outputs": [],
   "source": [
    "# get and save results for test data\n",
    "labels = ['brushing_teeth', 'idle', 'preparing_sandwich', 'reading_book', 'stairs_down', 'stairs_up', 'typing',\n",
    "          'using_phone', 'using_remote_control', 'walking_freely', 'walking_holding_a_tray',\n",
    "          'walking_with_handbag', 'walking_with_hands_in_pockets', 'walking_with_object_underarm',\n",
    "          'washing_face_and_hands', 'washing_mug', 'washing_plate', 'writing']\n",
    "results_list = []\n",
    "\n",
    "for i, file_id in enumerate(pd.read_csv('sample_submission.csv')['sample_id'].to_list()):\n",
    "\n",
    "    class_path = os.path.join(files_directory, f\"{file_id}.csv\")\n",
    "    new_data = pd.read_csv(class_path)\n",
    "    if new_data.shape[1] == 4:\n",
    "        new_data = new_data[new_data.iloc[:, 0] == 'acceleration [m/s/s]'].iloc[:, 1:]\n",
    "        data_x_tensor = torch.tensor(new_data[\"x\"].values, dtype=torch.float32)\n",
    "        data_y_tensor = torch.tensor(new_data[\"y\"].values, dtype=torch.float32)\n",
    "        data_z_tensor = torch.tensor(new_data[\"z\"].values, dtype=torch.float32)\n",
    "        res = xgb_classifier_type1.predict_proba(convert_to_features(data_x_tensor, data_y_tensor, data_z_tensor))\n",
    "        res_dict = dict(zip(label_encoder_type1.inverse_transform(xgb_classifier_type1.classes_), res[0]))\n",
    "    else:\n",
    "        data_x_tensor = torch.tensor(new_data[\"x [m]\"].values, dtype=torch.float32)\n",
    "        data_y_tensor = torch.tensor(new_data[\"y [m]\"].values, dtype=torch.float32)\n",
    "        data_z_tensor = torch.tensor(new_data[\"z [m]\"].values, dtype=torch.float32)\n",
    "        res = xgb_classifier_type2.predict_proba(convert_to_features(data_x_tensor, data_y_tensor, data_z_tensor))\n",
    "        res_dict = dict(zip(label_encoder_type2.inverse_transform(xgb_classifier_type2.classes_), res[0]))\n",
    "\n",
    "    result_dict = {label: res_dict.get(label, 0) for label in labels}\n",
    "    result_dict['sample_id'] = file_id\n",
    "    results_list.append(result_dict)\n",
    "\n",
    "results = pd.DataFrame(results_list, columns=['sample_id'] + labels)\n",
    "results.to_csv('XGB_res3.csv', index=False)"
   ],
   "metadata": {
    "collapsed": false
   },
   "id": "c85274cc0dd5758b"
  }
 ],
 "metadata": {
  "kernelspec": {
   "display_name": "Python 3",
   "language": "python",
   "name": "python3"
  },
  "language_info": {
   "codemirror_mode": {
    "name": "ipython",
    "version": 2
   },
   "file_extension": ".py",
   "mimetype": "text/x-python",
   "name": "python",
   "nbconvert_exporter": "python",
   "pygments_lexer": "ipython2",
   "version": "2.7.6"
  }
 },
 "nbformat": 4,
 "nbformat_minor": 5
}
