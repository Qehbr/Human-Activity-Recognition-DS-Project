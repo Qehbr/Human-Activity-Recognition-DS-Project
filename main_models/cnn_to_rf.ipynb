{
 "cells": [
  {
   "cell_type": "code",
   "execution_count": 1,
   "id": "initial_id",
   "metadata": {
    "collapsed": true,
    "ExecuteTime": {
     "end_time": "2024-02-20T09:59:14.969702300Z",
     "start_time": "2024-02-20T09:59:12.068408700Z"
    }
   },
   "outputs": [],
   "source": [
    "from CNN.CNN import MultivariateCNN\n",
    "from CNN.cnn_utils import train_cnn, get_train_data\n",
    "from RF_XGB.RandomForest import train_random_forest\n",
    "from models_utils.GLOBALS import *\n",
    "from models_utils.utils import get_results\n",
    "import pandas as pd"
   ]
  },
  {
   "cell_type": "code",
   "outputs": [],
   "source": [
    "# get train data\n",
    "train_data = pd.read_csv('train.csv', index_col=0)\n",
    "train_data['activity'] = train_data['activity'].map(activity_id_mapping)\n",
    "data_type_1 = train_data[train_data['sensor'] == 'vicon'].reset_index()\n",
    "data_type_2 = train_data[train_data['sensor'] == 'smartwatch'].reset_index()"
   ],
   "metadata": {
    "collapsed": false
   },
   "id": "d8f0cf28027bd353",
   "execution_count": null
  },
  {
   "cell_type": "code",
   "outputs": [],
   "source": [
    "# sizes of padding/cutting\n",
    "target_size_type1 = 3000\n",
    "target_size_type2 = 1169"
   ],
   "metadata": {
    "collapsed": false,
    "ExecuteTime": {
     "start_time": "2024-02-20T09:59:15.472775100Z"
    }
   },
   "id": "d043e0212484dede",
   "execution_count": null
  },
  {
   "cell_type": "code",
   "outputs": [],
   "source": [
    "# train or load models\n",
    "train_or_load_autoencoders = 'load'\n",
    "if train_or_load_autoencoders == 'train':\n",
    "    model_CNN_type1 = train_cnn('Type1CNNRFModel', data_type_1, '1', target_size_type1, 1, 64, 0.001)\n",
    "    model_CNN_type2 = train_cnn('Type2CNNRFModel', data_type_2, '2', target_size_type2, 1, 64, 0.001)\n",
    "elif train_or_load_autoencoders == 'load':\n",
    "    model_CNN_type1 = MultivariateCNN(3, target_size_type1, 18).to(device)\n",
    "    model_CNN_type1.load_state_dict(torch.load('Type1CNNRFModel.pth'))\n",
    "    model_CNN_type2 = MultivariateCNN(3, target_size_type2, 18).to(device)\n",
    "    model_CNN_type2.load_state_dict(torch.load(f'Type2CNNRFModel.pth'))\n",
    "else:\n",
    "    raise ValueError('Wrong train or load')"
   ],
   "metadata": {
    "collapsed": false,
    "ExecuteTime": {
     "start_time": "2024-02-20T09:59:15.472775100Z"
    }
   },
   "id": "d832595104ded8d7",
   "execution_count": null
  },
  {
   "cell_type": "code",
   "outputs": [],
   "source": [
    "# calculate or load train data\n",
    "embedding_names = [f'embedding_feature_{i + 1}' for i in range(18)]\n",
    "calculate_or_load_train_data = 'calculate'\n",
    "if calculate_or_load_train_data == 'calculate':\n",
    "    data_type_1, data_type_2 = get_train_data('train_CNN_data.csv', model_CNN_type1, model_CNN_type2,\n",
    "                                              target_size_type1, target_size_type2, is_autoencoder=False)\n",
    "elif calculate_or_load_train_data == 'load':\n",
    "    data_type_1 = pd.read_csv('train_CNN_data_type1.csv')\n",
    "    data_type_2 = pd.read_csv('train_CNN_data_type2.csv')"
   ],
   "metadata": {
    "collapsed": false
   },
   "id": "9a422ace4a000e8a",
   "execution_count": null
  },
  {
   "cell_type": "code",
   "outputs": [],
   "source": [
    "# train rf\n",
    "cols_to_drop_type_1 = ['activity', 'dominant_freq_y', 'count_x', 'count_y', 'count_z', 'dominant_freq_x']\n",
    "rf_classifier_type1, label_encoder_type1 = train_random_forest(data_type_1, cols_to_drop_type_1, n_estimators=200)\n",
    "cols_to_drop_type_2 = ['activity', 'dominant_freq_y', 'count_x', 'count_y', 'count_z', 'dominant_freq_x']\n",
    "rf_classifier_type2, label_encoder_type2 = train_random_forest(data_type_2, cols_to_drop_type_2, n_estimators=200)"
   ],
   "metadata": {
    "collapsed": false
   },
   "id": "783757164d85f28b"
  },
  {
   "cell_type": "code",
   "outputs": [],
   "source": [
    "# get and save results for test data\n",
    "results = get_results(model_CNN_type1, model_CNN_type2, rf_classifier_type1, rf_classifier_type2,\n",
    "                      label_encoder_type1, label_encoder_type2, target_size_type1, target_size_type2,\n",
    "                      cols_to_drop_type_1, cols_to_drop_type_2, embedding_names)\n",
    "results.to_csv('results_CNN_RF.csv', index=False)"
   ],
   "metadata": {
    "collapsed": false,
    "ExecuteTime": {
     "end_time": "2024-02-17T21:17:07.211773200Z",
     "start_time": "2024-02-17T21:17:06.896885700Z"
    }
   },
   "id": "20980c6beec7ef16",
   "execution_count": 43
  }
 ],
 "metadata": {
  "kernelspec": {
   "display_name": "Python 3",
   "language": "python",
   "name": "python3"
  },
  "language_info": {
   "codemirror_mode": {
    "name": "ipython",
    "version": 2
   },
   "file_extension": ".py",
   "mimetype": "text/x-python",
   "name": "python",
   "nbconvert_exporter": "python",
   "pygments_lexer": "ipython2",
   "version": "2.7.6"
  }
 },
 "nbformat": 4,
 "nbformat_minor": 5
}
