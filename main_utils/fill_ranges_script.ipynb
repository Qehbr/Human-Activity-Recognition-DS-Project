{
 "cells": [
  {
   "cell_type": "code",
   "outputs": [],
   "source": [
    "from collections import defaultdict\n",
    "import pandas as pd"
   ],
   "metadata": {
    "collapsed": false,
    "ExecuteTime": {
     "end_time": "2024-02-25T12:38:58.380847400Z",
     "start_time": "2024-02-25T12:38:58.130002700Z"
    }
   },
   "id": "3095f83fa1490e8b",
   "execution_count": 1
  },
  {
   "cell_type": "code",
   "outputs": [],
   "source": [
    "df =pd.read_csv('../csv/train.csv')\n",
    "df.sort_values(by=['id'], inplace=True)\n",
    "to_do = list(zip(df['id'].tolist(), df['activity'].tolist()))"
   ],
   "metadata": {
    "collapsed": false,
    "ExecuteTime": {
     "end_time": "2024-02-25T12:38:58.428725700Z",
     "start_time": "2024-02-25T12:38:58.382584900Z"
    }
   },
   "id": "237fda0bfe1fe8e2",
   "execution_count": 2
  },
  {
   "cell_type": "code",
   "outputs": [],
   "source": [
    "# fill all ranges\n",
    "ranges = defaultdict(list)\n",
    "\n",
    "curr_activity = 'brushing_teeth'\n",
    "curr_range_min = 0 \n",
    "curr_range_max = 0\n",
    "\n",
    "for i, (u_id,activity) in enumerate(to_do):\n",
    "    if activity == curr_activity:\n",
    "        curr_range_max = u_id\n",
    "    else:\n",
    "        ranges[curr_activity].append((curr_range_min, curr_range_max))\n",
    "        curr_range_min = u_id\n",
    "        curr_range_max = u_id\n",
    "        curr_activity = activity\n",
    "ranges[curr_activity].append((curr_range_min, curr_range_max))"
   ],
   "metadata": {
    "collapsed": false,
    "ExecuteTime": {
     "end_time": "2024-02-25T12:38:58.439013600Z",
     "start_time": "2024-02-25T12:38:58.435008600Z"
    }
   },
   "id": "553b2ed326ef2957",
   "execution_count": 3
  },
  {
   "cell_type": "code",
   "outputs": [],
   "source": [
    "# fill all ranges\n",
    "def find_activity(dictionary, id):\n",
    "    for activity, ranges in dictionary.items():\n",
    "        for start, end in ranges:\n",
    "            if start <= id <= end:\n",
    "                return activity\n",
    "    return \"Not Found\"\n",
    "res = pd.DataFrame(pd.read_csv('../csv/sample_submission.csv')['sample_id'])\n",
    "res['activity'] = res['sample_id'].map(lambda x: find_activity(ranges, x))"
   ],
   "metadata": {
    "collapsed": false,
    "ExecuteTime": {
     "end_time": "2024-02-25T12:39:01.490118700Z",
     "start_time": "2024-02-25T12:39:01.083964100Z"
    }
   },
   "id": "4b3f39abc25d0b4e",
   "execution_count": 4
  },
  {
   "cell_type": "code",
   "outputs": [],
   "source": [
    "# save results\n",
    "res.rename(columns={'sample_id': 'id'}, inplace=True)\n",
    "res.to_csv('../csv/secret.csv', index=False)"
   ],
   "metadata": {
    "collapsed": false,
    "ExecuteTime": {
     "end_time": "2024-02-25T12:39:12.949744400Z",
     "start_time": "2024-02-25T12:39:12.912314500Z"
    }
   },
   "id": "82627be0b63a8dbd",
   "execution_count": 5
  }
 ],
 "metadata": {
  "kernelspec": {
   "display_name": "Python 3",
   "language": "python",
   "name": "python3"
  },
  "language_info": {
   "codemirror_mode": {
    "name": "ipython",
    "version": 2
   },
   "file_extension": ".py",
   "mimetype": "text/x-python",
   "name": "python",
   "nbconvert_exporter": "python",
   "pygments_lexer": "ipython2",
   "version": "2.7.6"
  }
 },
 "nbformat": 4,
 "nbformat_minor": 5
}
