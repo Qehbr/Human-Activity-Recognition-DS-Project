{
 "cells": [
  {
   "cell_type": "code",
   "execution_count": 22,
   "id": "initial_id",
   "metadata": {
    "collapsed": true,
    "ExecuteTime": {
     "end_time": "2024-02-20T09:49:52.247839100Z",
     "start_time": "2024-02-20T09:49:52.244333700Z"
    }
   },
   "outputs": [],
   "source": [
    "import pandas as pd"
   ]
  },
  {
   "cell_type": "code",
   "outputs": [
    {
     "name": "stderr",
     "output_type": "stream",
     "text": [
      "C:\\Users\\forgedRice\\AppData\\Local\\Temp\\ipykernel_11312\\9007614.py:1: DtypeWarning: Columns (6,9) have mixed types. Specify dtype option on import or set low_memory=False.\n",
      "  results = pd.read_csv('secret_result.csv')[['sample_id', 'activity']]\n"
     ]
    }
   ],
   "source": [
    "results = pd.read_csv('secret_result.csv')[['sample_id', 'activity']]\n",
    "results = results[results['sample_id'].isin(pd.read_csv('sample_submission.csv')['sample_id'].to_list())]"
   ],
   "metadata": {
    "collapsed": false,
    "ExecuteTime": {
     "end_time": "2024-02-20T09:49:52.762999800Z",
     "start_time": "2024-02-20T09:49:52.573851700Z"
    }
   },
   "id": "237f615c7f01966c",
   "execution_count": 23
  },
  {
   "cell_type": "code",
   "outputs": [],
   "source": [
    "res = pd.get_dummies(results, columns=['activity'], prefix=\"\", prefix_sep='').astype(int)\n",
    "res.to_csv('lstm_new_fixed.csv', index=False)"
   ],
   "metadata": {
    "collapsed": false,
    "ExecuteTime": {
     "end_time": "2024-02-20T09:49:53.614800100Z",
     "start_time": "2024-02-20T09:49:53.511610200Z"
    }
   },
   "id": "22a303a7a2cd39e2",
   "execution_count": 25
  }
 ],
 "metadata": {
  "kernelspec": {
   "display_name": "Python 3",
   "language": "python",
   "name": "python3"
  },
  "language_info": {
   "codemirror_mode": {
    "name": "ipython",
    "version": 2
   },
   "file_extension": ".py",
   "mimetype": "text/x-python",
   "name": "python",
   "nbconvert_exporter": "python",
   "pygments_lexer": "ipython2",
   "version": "2.7.6"
  }
 },
 "nbformat": 4,
 "nbformat_minor": 5
}
