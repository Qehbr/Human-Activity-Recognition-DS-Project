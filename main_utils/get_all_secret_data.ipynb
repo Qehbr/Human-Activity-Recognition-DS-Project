{
 "cells": [
  {
   "cell_type": "code",
   "execution_count": 3,
   "id": "initial_id",
   "metadata": {
    "collapsed": true,
    "ExecuteTime": {
     "end_time": "2024-02-25T12:49:09.467796Z",
     "start_time": "2024-02-25T12:49:06.874809400Z"
    }
   },
   "outputs": [],
   "source": [
    "import pandas as pd\n",
    "\n",
    "from CNN.CNN import MultivariateCNN\n",
    "from CNN.cnn_utils import get_train_data\n",
    "from models_utils.GLOBALS import *\n"
   ]
  },
  {
   "cell_type": "code",
   "outputs": [],
   "source": [
    "# sizes of padding/cutting\n",
    "target_size_type1 = 3000\n",
    "target_size_type2 = 1300\n",
    "\n",
    "model_CNN_type1 = MultivariateCNN(3, target_size_type1, 18).to(device)\n",
    "model_CNN_type1.load_state_dict(torch.load('../models/Type1CNNtoLSTMModel5.pth'))\n",
    "model_CNN_type2 = MultivariateCNN(3, target_size_type2, 18).to(device)\n",
    "model_CNN_type2.load_state_dict(torch.load('../models/Type2CNNtoLSTMModel5.pth'))"
   ],
   "metadata": {
    "collapsed": false
   },
   "id": "86d023e5fc8da300",
   "execution_count": null
  },
  {
   "cell_type": "code",
   "outputs": [],
   "source": [
    "data_type_1, data_type_2 = get_train_data('train_CNN_to_LSTM_data5.csv', model_CNN_type1, model_CNN_type2,\n",
    "                                          target_size_type1, target_size_type2, embedding_size=18,\n",
    "                                          is_autoencoder=False, train_data_file='../csv/secret.csv')"
   ],
   "metadata": {
    "collapsed": false
   },
   "id": "91866e67dc4ae35c",
   "execution_count": null
  },
  {
   "cell_type": "code",
   "outputs": [],
   "source": [
    "pd.concat([data_type_1, data_type_2]).reset_index().to_csv('../csv/secret_all_data_features.csv')"
   ],
   "metadata": {
    "collapsed": false
   },
   "id": "3bcce0c30399c18c"
  }
 ],
 "metadata": {
  "kernelspec": {
   "display_name": "Python 3",
   "language": "python",
   "name": "python3"
  },
  "language_info": {
   "codemirror_mode": {
    "name": "ipython",
    "version": 2
   },
   "file_extension": ".py",
   "mimetype": "text/x-python",
   "name": "python",
   "nbconvert_exporter": "python",
   "pygments_lexer": "ipython2",
   "version": "2.7.6"
  }
 },
 "nbformat": 4,
 "nbformat_minor": 5
}
