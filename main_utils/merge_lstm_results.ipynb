{
 "cells": [
  {
   "cell_type": "code",
   "execution_count": 1,
   "id": "initial_id",
   "metadata": {
    "collapsed": true,
    "ExecuteTime": {
     "end_time": "2024-02-25T13:27:53.238128800Z",
     "start_time": "2024-02-25T13:27:53.005423200Z"
    }
   },
   "outputs": [],
   "source": [
    "from statistics import mode\n",
    "import pandas as pd"
   ]
  },
  {
   "cell_type": "code",
   "outputs": [],
   "source": [
    "# get all dfs\n",
    "lstm_results1 = pd.read_csv('../csv/lstm_results1.csv').rename(columns={'activity': 'activity1'})\n",
    "lstm_results2 = pd.read_csv('../csv/lstm_results2.csv').rename(columns={'activity': 'activity2'})\n",
    "lstm_results3 = pd.read_csv('../csv/lstm_results3.csv').rename(columns={'activity': 'activity3'})\n",
    "lstm_results4 = pd.read_csv('../csv/lstm_results4.csv').rename(columns={'activity': 'activity4'})\n",
    "lstm_results5 = pd.read_csv('../csv/lstm_results5.csv').rename(columns={'activity': 'activity5'})"
   ],
   "metadata": {
    "collapsed": false,
    "ExecuteTime": {
     "end_time": "2024-02-25T13:28:04.021726700Z",
     "start_time": "2024-02-25T13:28:03.946864300Z"
    }
   },
   "id": "35b2ae07b1471c5a",
   "execution_count": 3
  },
  {
   "cell_type": "code",
   "outputs": [],
   "source": [
    "# merge dfs\n",
    "lstm_merged = lstm_results1.merge(lstm_results2, on='id', how='outer')\n",
    "lstm_merged = lstm_merged.merge(lstm_results3, on='id', how='outer')\n",
    "lstm_merged = lstm_merged.merge(lstm_results4, on='id', how='outer')\n",
    "lstm_merged = lstm_merged.merge(lstm_results5, on='id', how='outer')"
   ],
   "metadata": {
    "collapsed": false,
    "ExecuteTime": {
     "end_time": "2024-02-25T13:28:05.096809700Z",
     "start_time": "2024-02-25T13:28:05.042525400Z"
    }
   },
   "id": "6b323226e959fd58",
   "execution_count": 4
  },
  {
   "cell_type": "code",
   "outputs": [],
   "source": [
    "# majority voting on activity\n",
    "def majority_vote(row):\n",
    "    activities = row[['activity1', 'activity2', 'activity3', 'activity4', 'activity5']].tolist()\n",
    "    return mode(activities)\n",
    "\n",
    "lstm_merged['majority_activity'] = lstm_merged.apply(majority_vote, axis=1)"
   ],
   "metadata": {
    "collapsed": false,
    "ExecuteTime": {
     "end_time": "2024-02-25T13:28:10.242561100Z",
     "start_time": "2024-02-25T13:28:05.947654300Z"
    }
   },
   "id": "1915a74753ee732a",
   "execution_count": 5
  },
  {
   "cell_type": "code",
   "outputs": [],
   "source": [
    "# save results\n",
    "lstm_merged[['sample_id', 'majority_activity']].to_csv('csv/lstm_majority_voting_results.csv', index=False)"
   ],
   "metadata": {
    "collapsed": false
   },
   "id": "e22dde8e733cca7"
  }
 ],
 "metadata": {
  "kernelspec": {
   "display_name": "Python 3",
   "language": "python",
   "name": "python3"
  },
  "language_info": {
   "codemirror_mode": {
    "name": "ipython",
    "version": 2
   },
   "file_extension": ".py",
   "mimetype": "text/x-python",
   "name": "python",
   "nbconvert_exporter": "python",
   "pygments_lexer": "ipython2",
   "version": "2.7.6"
  }
 },
 "nbformat": 4,
 "nbformat_minor": 5
}
